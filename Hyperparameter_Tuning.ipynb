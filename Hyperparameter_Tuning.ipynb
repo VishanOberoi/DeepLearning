{
  "nbformat": 4,
  "nbformat_minor": 0,
  "metadata": {
    "colab": {
      "provenance": [],
      "collapsed_sections": [],
      "authorship_tag": "ABX9TyPZp7yfSTNBZ3ovEj/Q+90B",
      "include_colab_link": true
    },
    "kernelspec": {
      "name": "python3",
      "display_name": "Python 3"
    },
    "language_info": {
      "name": "python"
    },
    "accelerator": "GPU",
    "gpuClass": "standard"
  },
  "cells": [
    {
      "cell_type": "markdown",
      "metadata": {
        "id": "view-in-github",
        "colab_type": "text"
      },
      "source": [
        "<a href=\"https://colab.research.google.com/github/VishanOberoi/DeepLearning/blob/main/Hyperparameter_Tuning.ipynb\" target=\"_parent\"><img src=\"https://colab.research.google.com/assets/colab-badge.svg\" alt=\"Open In Colab\"/></a>"
      ]
    },
    {
      "cell_type": "markdown",
      "source": [
        "#DL LAB 5\n",
        "Vishan Oberoi i033\n",
        "\n",
        "Hyperparamater tuning on the IMDB dataset using keras"
      ],
      "metadata": {
        "id": "veyiWeSKxREP"
      }
    },
    {
      "cell_type": "code",
      "execution_count": 32,
      "metadata": {
        "id": "m4FBDX9uYVRh"
      },
      "outputs": [],
      "source": [
        "from keras.datasets import imdb"
      ]
    },
    {
      "cell_type": "code",
      "source": [
        "(train_data, train_labels), (test_data, test_labels) = imdb.load_data(num_words = 10000)"
      ],
      "metadata": {
        "id": "Atwh7L28YlOM"
      },
      "execution_count": 33,
      "outputs": []
    },
    {
      "cell_type": "code",
      "source": [
        "  len(train_data[0])#Here 218 words for the review have been converted into integers for the 0th person"
      ],
      "metadata": {
        "colab": {
          "base_uri": "https://localhost:8080/"
        },
        "id": "OLP418q_Yvcq",
        "outputId": "975ff7f1-c8dd-43cf-e241-c7d8bfe22330"
      },
      "execution_count": 34,
      "outputs": [
        {
          "output_type": "execute_result",
          "data": {
            "text/plain": [
              "218"
            ]
          },
          "metadata": {},
          "execution_count": 34
        }
      ]
    },
    {
      "cell_type": "code",
      "source": [
        "train_data[0]"
      ],
      "metadata": {
        "colab": {
          "base_uri": "https://localhost:8080/"
        },
        "id": "uWjkBuRwZGIS",
        "outputId": "1686725f-35d8-4b9c-f4c5-8178aef54b22"
      },
      "execution_count": 35,
      "outputs": [
        {
          "output_type": "execute_result",
          "data": {
            "text/plain": [
              "[1,\n",
              " 14,\n",
              " 22,\n",
              " 16,\n",
              " 43,\n",
              " 530,\n",
              " 973,\n",
              " 1622,\n",
              " 1385,\n",
              " 65,\n",
              " 458,\n",
              " 4468,\n",
              " 66,\n",
              " 3941,\n",
              " 4,\n",
              " 173,\n",
              " 36,\n",
              " 256,\n",
              " 5,\n",
              " 25,\n",
              " 100,\n",
              " 43,\n",
              " 838,\n",
              " 112,\n",
              " 50,\n",
              " 670,\n",
              " 2,\n",
              " 9,\n",
              " 35,\n",
              " 480,\n",
              " 284,\n",
              " 5,\n",
              " 150,\n",
              " 4,\n",
              " 172,\n",
              " 112,\n",
              " 167,\n",
              " 2,\n",
              " 336,\n",
              " 385,\n",
              " 39,\n",
              " 4,\n",
              " 172,\n",
              " 4536,\n",
              " 1111,\n",
              " 17,\n",
              " 546,\n",
              " 38,\n",
              " 13,\n",
              " 447,\n",
              " 4,\n",
              " 192,\n",
              " 50,\n",
              " 16,\n",
              " 6,\n",
              " 147,\n",
              " 2025,\n",
              " 19,\n",
              " 14,\n",
              " 22,\n",
              " 4,\n",
              " 1920,\n",
              " 4613,\n",
              " 469,\n",
              " 4,\n",
              " 22,\n",
              " 71,\n",
              " 87,\n",
              " 12,\n",
              " 16,\n",
              " 43,\n",
              " 530,\n",
              " 38,\n",
              " 76,\n",
              " 15,\n",
              " 13,\n",
              " 1247,\n",
              " 4,\n",
              " 22,\n",
              " 17,\n",
              " 515,\n",
              " 17,\n",
              " 12,\n",
              " 16,\n",
              " 626,\n",
              " 18,\n",
              " 2,\n",
              " 5,\n",
              " 62,\n",
              " 386,\n",
              " 12,\n",
              " 8,\n",
              " 316,\n",
              " 8,\n",
              " 106,\n",
              " 5,\n",
              " 4,\n",
              " 2223,\n",
              " 5244,\n",
              " 16,\n",
              " 480,\n",
              " 66,\n",
              " 3785,\n",
              " 33,\n",
              " 4,\n",
              " 130,\n",
              " 12,\n",
              " 16,\n",
              " 38,\n",
              " 619,\n",
              " 5,\n",
              " 25,\n",
              " 124,\n",
              " 51,\n",
              " 36,\n",
              " 135,\n",
              " 48,\n",
              " 25,\n",
              " 1415,\n",
              " 33,\n",
              " 6,\n",
              " 22,\n",
              " 12,\n",
              " 215,\n",
              " 28,\n",
              " 77,\n",
              " 52,\n",
              " 5,\n",
              " 14,\n",
              " 407,\n",
              " 16,\n",
              " 82,\n",
              " 2,\n",
              " 8,\n",
              " 4,\n",
              " 107,\n",
              " 117,\n",
              " 5952,\n",
              " 15,\n",
              " 256,\n",
              " 4,\n",
              " 2,\n",
              " 7,\n",
              " 3766,\n",
              " 5,\n",
              " 723,\n",
              " 36,\n",
              " 71,\n",
              " 43,\n",
              " 530,\n",
              " 476,\n",
              " 26,\n",
              " 400,\n",
              " 317,\n",
              " 46,\n",
              " 7,\n",
              " 4,\n",
              " 2,\n",
              " 1029,\n",
              " 13,\n",
              " 104,\n",
              " 88,\n",
              " 4,\n",
              " 381,\n",
              " 15,\n",
              " 297,\n",
              " 98,\n",
              " 32,\n",
              " 2071,\n",
              " 56,\n",
              " 26,\n",
              " 141,\n",
              " 6,\n",
              " 194,\n",
              " 7486,\n",
              " 18,\n",
              " 4,\n",
              " 226,\n",
              " 22,\n",
              " 21,\n",
              " 134,\n",
              " 476,\n",
              " 26,\n",
              " 480,\n",
              " 5,\n",
              " 144,\n",
              " 30,\n",
              " 5535,\n",
              " 18,\n",
              " 51,\n",
              " 36,\n",
              " 28,\n",
              " 224,\n",
              " 92,\n",
              " 25,\n",
              " 104,\n",
              " 4,\n",
              " 226,\n",
              " 65,\n",
              " 16,\n",
              " 38,\n",
              " 1334,\n",
              " 88,\n",
              " 12,\n",
              " 16,\n",
              " 283,\n",
              " 5,\n",
              " 16,\n",
              " 4472,\n",
              " 113,\n",
              " 103,\n",
              " 32,\n",
              " 15,\n",
              " 16,\n",
              " 5345,\n",
              " 19,\n",
              " 178,\n",
              " 32]"
            ]
          },
          "metadata": {},
          "execution_count": 35
        }
      ]
    },
    {
      "cell_type": "code",
      "source": [
        "import numpy as np\n",
        "def vectorize_sequences(sequences, dimension=10000):\n",
        "    # all zero matrix of shape (len(sequences), dimension)\n",
        "    result = np.zeros((len(sequences), dimension))\n",
        "    for i,sequence in enumerate(sequences):\n",
        "        result[i, sequence] = 1\n",
        "    return result\n",
        "\n"
      ],
      "metadata": {
        "id": "cn0VVj2kbOwj"
      },
      "execution_count": 36,
      "outputs": []
    },
    {
      "cell_type": "code",
      "source": [
        "X_train = vectorize_sequences(train_data)\n",
        "X_test = vectorize_sequences(test_data)"
      ],
      "metadata": {
        "id": "7hOVjpjha2lj"
      },
      "execution_count": 37,
      "outputs": []
    },
    {
      "cell_type": "code",
      "source": [
        "X_train.shape"
      ],
      "metadata": {
        "colab": {
          "base_uri": "https://localhost:8080/"
        },
        "id": "XriFPOt-bvzm",
        "outputId": "d3a3ce12-5ec4-4293-a3df-fb9b5f38d279"
      },
      "execution_count": 38,
      "outputs": [
        {
          "output_type": "execute_result",
          "data": {
            "text/plain": [
              "(25000, 10000)"
            ]
          },
          "metadata": {},
          "execution_count": 38
        }
      ]
    },
    {
      "cell_type": "code",
      "source": [
        "X_test.shape"
      ],
      "metadata": {
        "colab": {
          "base_uri": "https://localhost:8080/"
        },
        "id": "8V4EkeXtb-ku",
        "outputId": "55c55635-9597-430a-8828-4c89a91b449d"
      },
      "execution_count": 39,
      "outputs": [
        {
          "output_type": "execute_result",
          "data": {
            "text/plain": [
              "(25000, 10000)"
            ]
          },
          "metadata": {},
          "execution_count": 39
        }
      ]
    },
    {
      "cell_type": "code",
      "source": [
        "y_train = np.asarray(train_labels).astype('float32')\n",
        "y_test = np.asarray(test_labels).astype('float32')"
      ],
      "metadata": {
        "id": "pD9hpvpGcfdO"
      },
      "execution_count": 40,
      "outputs": []
    },
    {
      "cell_type": "code",
      "source": [
        "y_train[0]"
      ],
      "metadata": {
        "colab": {
          "base_uri": "https://localhost:8080/"
        },
        "id": "OQkITSw2fAP_",
        "outputId": "4bf987d5-9a54-4b20-9223-b38498ea5f80"
      },
      "execution_count": 41,
      "outputs": [
        {
          "output_type": "execute_result",
          "data": {
            "text/plain": [
              "1.0"
            ]
          },
          "metadata": {},
          "execution_count": 41
        }
      ]
    },
    {
      "cell_type": "code",
      "source": [
        "from keras import models\n",
        "from keras import layers\n",
        "\n",
        "model  = models.Sequential()\n",
        "model.add(layers.Dense(16, activation='relu', input_shape=(10000,))) #Although there are no negative values, we are using relu due to its speed\n",
        "model.add(layers.Dense(16, activation='relu'))\n",
        "model.add(layers.Dense(16, activation='relu'))\n",
        "model.add(layers.Dense(1, activation='sigmoid')) #The last layer is doing classification so we use sigmoid"
      ],
      "metadata": {
        "id": "YPhEAADjclcf"
      },
      "execution_count": 42,
      "outputs": []
    },
    {
      "cell_type": "code",
      "source": [
        "model.compile(optimizer='rmsprop',loss='binary_crossentropy',metrics=['acc'])\n",
        "x_val = X_train[:10000]\n",
        "partial_x_train = X_train[10000:]\n",
        "\n",
        "y_val = y_train[:10000]\n",
        "partial_y_train = y_train[10000:]\n"
      ],
      "metadata": {
        "id": "bQFhO6uJfNcQ"
      },
      "execution_count": 43,
      "outputs": []
    },
    {
      "cell_type": "code",
      "source": [
        "x_val.shape"
      ],
      "metadata": {
        "colab": {
          "base_uri": "https://localhost:8080/"
        },
        "id": "ClpApG1dlBb1",
        "outputId": "f16ff565-8cab-4d10-f70d-93f10d14591e"
      },
      "execution_count": 44,
      "outputs": [
        {
          "output_type": "execute_result",
          "data": {
            "text/plain": [
              "(10000, 10000)"
            ]
          },
          "metadata": {},
          "execution_count": 44
        }
      ]
    },
    {
      "cell_type": "code",
      "source": [
        "history = model.fit(X_train, y_train, epochs = 20, validation_data = (x_val, y_val), batch_size = 512)"
      ],
      "metadata": {
        "colab": {
          "base_uri": "https://localhost:8080/"
        },
        "id": "h9NqYURRgqEt",
        "outputId": "07eb4279-63ff-477e-f817-f96639cce6de"
      },
      "execution_count": 45,
      "outputs": [
        {
          "output_type": "stream",
          "name": "stdout",
          "text": [
            "Epoch 1/20\n",
            "49/49 [==============================] - 2s 32ms/step - loss: 0.4469 - acc: 0.8179 - val_loss: 0.2641 - val_acc: 0.9168\n",
            "Epoch 2/20\n",
            "49/49 [==============================] - 1s 17ms/step - loss: 0.2468 - acc: 0.9091 - val_loss: 0.1798 - val_acc: 0.9406\n",
            "Epoch 3/20\n",
            "49/49 [==============================] - 1s 17ms/step - loss: 0.1919 - acc: 0.9285 - val_loss: 0.1377 - val_acc: 0.9575\n",
            "Epoch 4/20\n",
            "49/49 [==============================] - 1s 17ms/step - loss: 0.1561 - acc: 0.9421 - val_loss: 0.1199 - val_acc: 0.9625\n",
            "Epoch 5/20\n",
            "49/49 [==============================] - 1s 18ms/step - loss: 0.1388 - acc: 0.9500 - val_loss: 0.1107 - val_acc: 0.9625\n",
            "Epoch 6/20\n",
            "49/49 [==============================] - 1s 18ms/step - loss: 0.1227 - acc: 0.9568 - val_loss: 0.0886 - val_acc: 0.9732\n",
            "Epoch 7/20\n",
            "49/49 [==============================] - 1s 17ms/step - loss: 0.1016 - acc: 0.9651 - val_loss: 0.0998 - val_acc: 0.9631\n",
            "Epoch 8/20\n",
            "49/49 [==============================] - 1s 18ms/step - loss: 0.0878 - acc: 0.9696 - val_loss: 0.0706 - val_acc: 0.9780\n",
            "Epoch 9/20\n",
            "49/49 [==============================] - 1s 18ms/step - loss: 0.0799 - acc: 0.9730 - val_loss: 0.0600 - val_acc: 0.9826\n",
            "Epoch 10/20\n",
            "49/49 [==============================] - 1s 17ms/step - loss: 0.0648 - acc: 0.9792 - val_loss: 0.0407 - val_acc: 0.9915\n",
            "Epoch 11/20\n",
            "49/49 [==============================] - 1s 17ms/step - loss: 0.0581 - acc: 0.9815 - val_loss: 0.0327 - val_acc: 0.9933\n",
            "Epoch 12/20\n",
            "49/49 [==============================] - 1s 18ms/step - loss: 0.0464 - acc: 0.9852 - val_loss: 0.0287 - val_acc: 0.9937\n",
            "Epoch 13/20\n",
            "49/49 [==============================] - 1s 17ms/step - loss: 0.0400 - acc: 0.9883 - val_loss: 0.0344 - val_acc: 0.9920\n",
            "Epoch 14/20\n",
            "49/49 [==============================] - 1s 18ms/step - loss: 0.0283 - acc: 0.9925 - val_loss: 0.0167 - val_acc: 0.9971\n",
            "Epoch 15/20\n",
            "49/49 [==============================] - 1s 17ms/step - loss: 0.0259 - acc: 0.9932 - val_loss: 0.0132 - val_acc: 0.9974\n",
            "Epoch 16/20\n",
            "49/49 [==============================] - 1s 17ms/step - loss: 0.0232 - acc: 0.9942 - val_loss: 0.0093 - val_acc: 0.9985\n",
            "Epoch 17/20\n",
            "49/49 [==============================] - 1s 17ms/step - loss: 0.0192 - acc: 0.9951 - val_loss: 0.0071 - val_acc: 0.9986\n",
            "Epoch 18/20\n",
            "49/49 [==============================] - 1s 18ms/step - loss: 0.0151 - acc: 0.9958 - val_loss: 0.0050 - val_acc: 0.9991\n",
            "Epoch 19/20\n",
            "49/49 [==============================] - 1s 18ms/step - loss: 0.0156 - acc: 0.9961 - val_loss: 0.0036 - val_acc: 0.9992\n",
            "Epoch 20/20\n",
            "49/49 [==============================] - 1s 17ms/step - loss: 0.0134 - acc: 0.9966 - val_loss: 0.0037 - val_acc: 0.9994\n"
          ]
        }
      ]
    },
    {
      "cell_type": "code",
      "source": [
        "import matplotlib.pyplot as plt\n",
        "\n",
        "plot_dict = history.history\n",
        "plot_dict #We can see loss, accuracy, val_loss, val_acc"
      ],
      "metadata": {
        "colab": {
          "base_uri": "https://localhost:8080/"
        },
        "id": "EyAAuRWmgjgD",
        "outputId": "9cce1d78-04cf-4262-9880-7581aded19ac"
      },
      "execution_count": 46,
      "outputs": [
        {
          "output_type": "execute_result",
          "data": {
            "text/plain": [
              "{'loss': [0.4469069838523865,\n",
              "  0.24679876863956451,\n",
              "  0.19194357097148895,\n",
              "  0.15614815056324005,\n",
              "  0.13884615898132324,\n",
              "  0.12272027134895325,\n",
              "  0.10157123953104019,\n",
              "  0.08782529085874557,\n",
              "  0.07985085994005203,\n",
              "  0.06478612124919891,\n",
              "  0.058057259768247604,\n",
              "  0.046364136040210724,\n",
              "  0.03999769315123558,\n",
              "  0.028274552896618843,\n",
              "  0.025850793346762657,\n",
              "  0.02316351793706417,\n",
              "  0.01919526793062687,\n",
              "  0.015060590580105782,\n",
              "  0.015550891868770123,\n",
              "  0.013378704898059368],\n",
              " 'acc': [0.8179200291633606,\n",
              "  0.9090800285339355,\n",
              "  0.9285200238227844,\n",
              "  0.942080020904541,\n",
              "  0.9499599933624268,\n",
              "  0.9567999839782715,\n",
              "  0.9650800228118896,\n",
              "  0.9695600271224976,\n",
              "  0.9729999899864197,\n",
              "  0.979200005531311,\n",
              "  0.9814800024032593,\n",
              "  0.9852399826049805,\n",
              "  0.9882799983024597,\n",
              "  0.9925199747085571,\n",
              "  0.9932399988174438,\n",
              "  0.9941999912261963,\n",
              "  0.9951199889183044,\n",
              "  0.9957600235939026,\n",
              "  0.9961199760437012,\n",
              "  0.9965599775314331],\n",
              " 'val_loss': [0.2641283869743347,\n",
              "  0.1797664910554886,\n",
              "  0.1376577615737915,\n",
              "  0.11992333829402924,\n",
              "  0.11068248003721237,\n",
              "  0.08858847618103027,\n",
              "  0.09976290911436081,\n",
              "  0.07063671946525574,\n",
              "  0.05997014045715332,\n",
              "  0.0407254621386528,\n",
              "  0.03270261734724045,\n",
              "  0.028701547533273697,\n",
              "  0.03443847969174385,\n",
              "  0.016685785725712776,\n",
              "  0.013179504312574863,\n",
              "  0.009255919605493546,\n",
              "  0.007077951915562153,\n",
              "  0.005047554150223732,\n",
              "  0.0035779972095042467,\n",
              "  0.0036614136770367622],\n",
              " 'val_acc': [0.9168000221252441,\n",
              "  0.9405999779701233,\n",
              "  0.9574999809265137,\n",
              "  0.9624999761581421,\n",
              "  0.9624999761581421,\n",
              "  0.9732000231742859,\n",
              "  0.963100016117096,\n",
              "  0.9779999852180481,\n",
              "  0.9825999736785889,\n",
              "  0.9915000200271606,\n",
              "  0.9933000206947327,\n",
              "  0.9937000274658203,\n",
              "  0.9919999837875366,\n",
              "  0.9970999956130981,\n",
              "  0.9973999857902527,\n",
              "  0.9984999895095825,\n",
              "  0.9986000061035156,\n",
              "  0.9991000294685364,\n",
              "  0.9991999864578247,\n",
              "  0.9994000196456909]}"
            ]
          },
          "metadata": {},
          "execution_count": 46
        }
      ]
    },
    {
      "cell_type": "code",
      "source": [
        "\n",
        "accuracy = plot_dict['acc']\n",
        "epochs = range(1,len(accuracy) + 1)\n",
        "val_acc = plot_dict['val_acc']"
      ],
      "metadata": {
        "id": "X9rgsya8jJh2"
      },
      "execution_count": 47,
      "outputs": []
    },
    {
      "cell_type": "code",
      "source": [
        "plt.title(\"Training and validation accuracy\")\n",
        "plt.plot(epochs, accuracy, label = \"Training accuracy\")\n",
        "plt.plot(epochs, val_acc, label = \"Validation accuracy\")\n",
        "plt.xlabel(\"Epochs\")\n",
        "plt.ylabel(\"Loss\")\n",
        "plt.legend()\n"
      ],
      "metadata": {
        "colab": {
          "base_uri": "https://localhost:8080/",
          "height": 313
        },
        "id": "J6syDNZqjsh_",
        "outputId": "6bf17960-1851-443d-dfdb-d0c3016df09a"
      },
      "execution_count": 48,
      "outputs": [
        {
          "output_type": "execute_result",
          "data": {
            "text/plain": [
              "<matplotlib.legend.Legend at 0x7f1349a26750>"
            ]
          },
          "metadata": {},
          "execution_count": 48
        },
        {
          "output_type": "display_data",
          "data": {
            "text/plain": [
              "<Figure size 432x288 with 1 Axes>"
            ],
            "image/png": "[encoded data removed]"
          },
          "metadata": {
            "needs_background": "light"
          }
        }
      ]
    },
    {
      "cell_type": "code",
      "source": [
        "plt.title(\"Training and validation loss\")\n",
        "loss = plot_dict['loss']\n",
        "val_loss = plot_dict['val_loss']\n",
        "plt.plot(epochs, loss, label = \"Training loss\")\n",
        "plt.plot(epochs, val_loss, label = \"Validation loss\")\n",
        "plt.xlabel(\"Epochs\")\n",
        "plt.ylabel(\"Loss\")\n",
        "plt.legend()\n"
      ],
      "metadata": {
        "colab": {
          "base_uri": "https://localhost:8080/",
          "height": 313
        },
        "id": "jYTWvitOjw9F",
        "outputId": "a2f9d4c4-a8e5-4f24-c3bc-b5d08ff013b9"
      },
      "execution_count": 49,
      "outputs": [
        {
          "output_type": "execute_result",
          "data": {
            "text/plain": [
              "<matplotlib.legend.Legend at 0x7f147826a350>"
            ]
          },
          "metadata": {},
          "execution_count": 49
        },
        {
          "output_type": "display_data",
          "data": {
            "text/plain": [
              "<Figure size 432x288 with 1 Axes>"
            ],
            "image/png": "[encoded data removed]"
          },
          "metadata": {
            "needs_background": "light"
          }
        }
      ]
    },
    {
      "cell_type": "code",
      "source": [
        "model.predict(X_test)"
      ],
      "metadata": {
        "colab": {
          "base_uri": "https://localhost:8080/"
        },
        "id": "19kJLeB_mxdN",
        "outputId": "ed196982-33a2-42d4-e81b-6d3c37bd62bc"
      },
      "execution_count": 50,
      "outputs": [
        {
          "output_type": "execute_result",
          "data": {
            "text/plain": [
              "array([[0.00120483],\n",
              "       [1.        ],\n",
              "       [0.9999987 ],\n",
              "       ...,\n",
              "       [0.2854407 ],\n",
              "       [0.00466818],\n",
              "       [0.9897752 ]], dtype=float32)"
            ]
          },
          "metadata": {},
          "execution_count": 50
        }
      ]
    },
    {
      "cell_type": "code",
      "source": [
        "from keras import regularizers\n",
        "model1 = models.Sequential()\n",
        "model1.add(layers.Dense(16, kernel_regularizer = regularizers.l2(0.001), activation = 'relu'))\n",
        "model1.add(layers.Dense(1, activation = 'sigmoid'))"
      ],
      "metadata": {
        "id": "mS7Ai_7ynJSW"
      },
      "execution_count": 51,
      "outputs": []
    },
    {
      "cell_type": "code",
      "source": [
        "import keras\n",
        "import tensorflow as tf\n",
        "callback = tf.keras.callbacks.EarlyStopping(monitor='loss', patience=3)\n",
        "model1.compile(optimizer='rmsprop',loss='binary_crossentropy',metrics=['acc'])\n"
      ],
      "metadata": {
        "id": "a2GxRZshn2q-"
      },
      "execution_count": 52,
      "outputs": []
    },
    {
      "cell_type": "code",
      "source": [
        "history2 = model.fit(X_train, y_train, epochs = 20, validation_data = (x_val, y_val), batch_size = 512)"
      ],
      "metadata": {
        "colab": {
          "base_uri": "https://localhost:8080/"
        },
        "id": "RYhiLoNts0fS",
        "outputId": "19fe5027-9f03-45e0-ea8c-dd91e6d1ee9f"
      },
      "execution_count": 53,
      "outputs": [
        {
          "output_type": "stream",
          "name": "stdout",
          "text": [
            "Epoch 1/20\n",
            "49/49 [==============================] - 2s 34ms/step - loss: 0.0024 - acc: 0.9998 - val_loss: 0.0017 - val_acc: 0.9997\n",
            "Epoch 2/20\n",
            "49/49 [==============================] - 1s 18ms/step - loss: 0.0091 - acc: 0.9974 - val_loss: 0.0012 - val_acc: 0.9999\n",
            "Epoch 3/20\n",
            "49/49 [==============================] - 1s 17ms/step - loss: 0.0139 - acc: 0.9965 - val_loss: 9.1199e-04 - val_acc: 0.9999\n",
            "Epoch 4/20\n",
            "49/49 [==============================] - 1s 17ms/step - loss: 7.8019e-04 - acc: 0.9999 - val_loss: 6.1067e-04 - val_acc: 0.9999\n",
            "Epoch 5/20\n",
            "49/49 [==============================] - 1s 18ms/step - loss: 0.0121 - acc: 0.9968 - val_loss: 4.7014e-04 - val_acc: 0.9999\n",
            "Epoch 6/20\n",
            "49/49 [==============================] - 1s 18ms/step - loss: 4.2158e-04 - acc: 1.0000 - val_loss: 4.9576e-04 - val_acc: 1.0000\n",
            "Epoch 7/20\n",
            "49/49 [==============================] - 1s 17ms/step - loss: 0.0069 - acc: 0.9986 - val_loss: 1.9259e-04 - val_acc: 1.0000\n",
            "Epoch 8/20\n",
            "49/49 [==============================] - 1s 18ms/step - loss: 1.8159e-04 - acc: 1.0000 - val_loss: 1.1672e-04 - val_acc: 1.0000\n",
            "Epoch 9/20\n",
            "49/49 [==============================] - 1s 17ms/step - loss: 0.0114 - acc: 0.9972 - val_loss: 9.7705e-05 - val_acc: 1.0000\n",
            "Epoch 10/20\n",
            "49/49 [==============================] - 1s 18ms/step - loss: 9.8141e-05 - acc: 1.0000 - val_loss: 7.3865e-05 - val_acc: 1.0000\n",
            "Epoch 11/20\n",
            "49/49 [==============================] - 1s 17ms/step - loss: 7.2205e-05 - acc: 1.0000 - val_loss: 5.1336e-05 - val_acc: 1.0000\n",
            "Epoch 12/20\n",
            "49/49 [==============================] - 1s 18ms/step - loss: 0.0127 - acc: 0.9974 - val_loss: 5.0704e-05 - val_acc: 1.0000\n",
            "Epoch 13/20\n",
            "49/49 [==============================] - 1s 18ms/step - loss: 4.6332e-05 - acc: 1.0000 - val_loss: 3.1500e-05 - val_acc: 1.0000\n",
            "Epoch 14/20\n",
            "49/49 [==============================] - 1s 17ms/step - loss: 2.9830e-05 - acc: 1.0000 - val_loss: 1.7813e-05 - val_acc: 1.0000\n",
            "Epoch 15/20\n",
            "49/49 [==============================] - 1s 17ms/step - loss: 0.0115 - acc: 0.9979 - val_loss: 2.2249e-05 - val_acc: 1.0000\n",
            "Epoch 16/20\n",
            "49/49 [==============================] - 1s 17ms/step - loss: 2.3206e-05 - acc: 1.0000 - val_loss: 1.3325e-05 - val_acc: 1.0000\n",
            "Epoch 17/20\n",
            "49/49 [==============================] - 1s 18ms/step - loss: 1.1978e-05 - acc: 1.0000 - val_loss: 8.0137e-06 - val_acc: 1.0000\n",
            "Epoch 18/20\n",
            "49/49 [==============================] - 1s 18ms/step - loss: 0.0076 - acc: 0.9983 - val_loss: 2.0506e-05 - val_acc: 1.0000\n",
            "Epoch 19/20\n",
            "49/49 [==============================] - 1s 17ms/step - loss: 1.5162e-05 - acc: 1.0000 - val_loss: 7.3518e-06 - val_acc: 1.0000\n",
            "Epoch 20/20\n",
            "49/49 [==============================] - 1s 17ms/step - loss: 6.8175e-06 - acc: 1.0000 - val_loss: 4.3445e-06 - val_acc: 1.0000\n"
          ]
        }
      ]
    },
    {
      "cell_type": "code",
      "source": [
        "\n",
        "plot_dict = history2.history\n",
        "plot_dict #We can see loss, accuracy, val_loss, val_acc\n",
        "accuracy = plot_dict['acc']\n",
        "epochs = range(1,len(accuracy) + 1)\n",
        "val_acc = plot_dict['val_acc']"
      ],
      "metadata": {
        "id": "B0Lqpw9bn-tc"
      },
      "execution_count": 54,
      "outputs": []
    },
    {
      "cell_type": "code",
      "source": [
        "plt.title(\"Training and validation accuracy\")\n",
        "plt.plot(epochs, accuracy, label = \"Training accuracy\")\n",
        "plt.plot(epochs, val_acc, label = \"Validation accuracy\")\n",
        "plt.xlabel(\"Epochs\")\n",
        "plt.ylabel(\"Loss\")\n",
        "plt.legend()"
      ],
      "metadata": {
        "colab": {
          "base_uri": "https://localhost:8080/",
          "height": 313
        },
        "id": "ASgJBYnWoLIc",
        "outputId": "1ba7e874-4a9f-466b-9e0b-30ba49254471"
      },
      "execution_count": 55,
      "outputs": [
        {
          "output_type": "execute_result",
          "data": {
            "text/plain": [
              "<matplotlib.legend.Legend at 0x7f13498d24d0>"
            ]
          },
          "metadata": {},
          "execution_count": 55
        },
        {
          "output_type": "display_data",
          "data": {
            "text/plain": [
              "<Figure size 432x288 with 1 Axes>"
            ],
            "image/png": "[encoded data removed]"
          },
          "metadata": {
            "needs_background": "light"
          }
        }
      ]
    },
    {
      "cell_type": "code",
      "source": [
        "plt.title(\"Training and validation loss\")\n",
        "loss = plot_dict['loss']\n",
        "val_loss = plot_dict['val_loss']\n",
        "plt.plot(epochs, loss, label = \"Training loss\")\n",
        "plt.plot(epochs, val_loss, label = \"Validation loss\")\n",
        "plt.xlabel(\"Epochs\")\n",
        "plt.ylabel(\"Loss\")\n",
        "plt.legend()"
      ],
      "metadata": {
        "colab": {
          "base_uri": "https://localhost:8080/",
          "height": 313
        },
        "id": "n2cW6zxwoRR0",
        "outputId": "5b94a39f-8a7f-470c-9936-1218736913bc"
      },
      "execution_count": 56,
      "outputs": [
        {
          "output_type": "execute_result",
          "data": {
            "text/plain": [
              "<matplotlib.legend.Legend at 0x7f147978fb90>"
            ]
          },
          "metadata": {},
          "execution_count": 56
        },
        {
          "output_type": "display_data",
          "data": {
            "text/plain": [
              "<Figure size 432x288 with 1 Axes>"
            ],
            "image/png": "[encoded data removed]"
          },
          "metadata": {
            "needs_background": "light"
          }
        }
      ]
    },
    {
      "cell_type": "code",
      "source": [
        "#The model seems to be doing well, apart from one point. We can implement early stopping, monitoring the loss to solve this problem"
      ],
      "metadata": {
        "id": "VCpTSjZluP7K"
      },
      "execution_count": 57,
      "outputs": []
    },
    {
      "cell_type": "code",
      "source": [
        "from keras import regularizers\n",
        "model1 = models.Sequential()\n",
        "model1.add(layers.Dense(16, kernel_regularizer = regularizers.l2(0.001), activation = 'relu'))\n",
        "model1.add(layers.Dense(1, activation = 'sigmoid'))"
      ],
      "metadata": {
        "id": "3vx49wbUq7GJ"
      },
      "execution_count": 58,
      "outputs": []
    },
    {
      "cell_type": "code",
      "source": [
        "import keras\n",
        "import tensorflow as tf\n",
        "callback = tf.keras.callbacks.EarlyStopping(monitor='val_loss', patience=3)\n",
        "model1.compile(optimizer='rmsprop',loss='binary_crossentropy',metrics=['acc'])\n"
      ],
      "metadata": {
        "id": "h9klJvvAugty"
      },
      "execution_count": 69,
      "outputs": []
    },
    {
      "cell_type": "code",
      "source": [
        "history2 = model.fit(X_train, y_train, epochs = 20, callbacks = [callback], validation_data = (x_val, y_val), batch_size = 512)"
      ],
      "metadata": {
        "colab": {
          "base_uri": "https://localhost:8080/"
        },
        "id": "awY1Iej9uiK0",
        "outputId": "0af77431-b4b8-4f8b-c55f-d75839307eba"
      },
      "execution_count": 70,
      "outputs": [
        {
          "output_type": "stream",
          "name": "stdout",
          "text": [
            "Epoch 1/20\n",
            "49/49 [==============================] - 1s 25ms/step - loss: 0.0044 - acc: 0.9992 - val_loss: 1.3871e-06 - val_acc: 1.0000\n",
            "Epoch 2/20\n",
            "49/49 [==============================] - 1s 17ms/step - loss: 1.5185e-06 - acc: 1.0000 - val_loss: 6.4741e-07 - val_acc: 1.0000\n",
            "Epoch 3/20\n",
            "49/49 [==============================] - 1s 17ms/step - loss: 4.8537e-07 - acc: 1.0000 - val_loss: 2.6925e-07 - val_acc: 1.0000\n",
            "Epoch 4/20\n",
            "49/49 [==============================] - 1s 17ms/step - loss: 2.1252e-07 - acc: 1.0000 - val_loss: 1.3741e-07 - val_acc: 1.0000\n",
            "Epoch 5/20\n",
            "49/49 [==============================] - 1s 17ms/step - loss: 1.1181e-07 - acc: 1.0000 - val_loss: 6.7883e-08 - val_acc: 1.0000\n",
            "Epoch 6/20\n",
            "49/49 [==============================] - 1s 17ms/step - loss: 0.0066 - acc: 0.9991 - val_loss: 1.0014e-07 - val_acc: 1.0000\n",
            "Epoch 7/20\n",
            "49/49 [==============================] - 1s 18ms/step - loss: 8.6691e-08 - acc: 1.0000 - val_loss: 6.7102e-08 - val_acc: 1.0000\n",
            "Epoch 8/20\n",
            "49/49 [==============================] - 1s 17ms/step - loss: 6.4940e-08 - acc: 1.0000 - val_loss: 5.8063e-08 - val_acc: 1.0000\n",
            "Epoch 9/20\n",
            "49/49 [==============================] - 1s 17ms/step - loss: 5.5319e-08 - acc: 1.0000 - val_loss: 4.8576e-08 - val_acc: 1.0000\n",
            "Epoch 10/20\n",
            "49/49 [==============================] - 1s 17ms/step - loss: 4.4457e-08 - acc: 1.0000 - val_loss: 3.6180e-08 - val_acc: 1.0000\n",
            "Epoch 11/20\n",
            "49/49 [==============================] - 1s 17ms/step - loss: 3.0604e-08 - acc: 1.0000 - val_loss: 2.0813e-08 - val_acc: 1.0000\n",
            "Epoch 12/20\n",
            "49/49 [==============================] - 1s 17ms/step - loss: 1.6901e-08 - acc: 1.0000 - val_loss: 1.2319e-08 - val_acc: 1.0000\n",
            "Epoch 13/20\n",
            "49/49 [==============================] - 1s 17ms/step - loss: 1.0068e-08 - acc: 1.0000 - val_loss: 8.2799e-09 - val_acc: 1.0000\n",
            "Epoch 14/20\n",
            "49/49 [==============================] - 1s 17ms/step - loss: 7.0573e-09 - acc: 1.0000 - val_loss: 5.9509e-09 - val_acc: 1.0000\n",
            "Epoch 15/20\n",
            "49/49 [==============================] - 1s 17ms/step - loss: 5.4040e-09 - acc: 1.0000 - val_loss: 4.7818e-09 - val_acc: 1.0000\n",
            "Epoch 16/20\n",
            "49/49 [==============================] - 1s 17ms/step - loss: 4.4218e-09 - acc: 1.0000 - val_loss: 3.9926e-09 - val_acc: 1.0000\n",
            "Epoch 17/20\n",
            "49/49 [==============================] - 1s 17ms/step - loss: 3.7555e-09 - acc: 1.0000 - val_loss: 3.4495e-09 - val_acc: 1.0000\n",
            "Epoch 18/20\n",
            "49/49 [==============================] - 1s 17ms/step - loss: 3.2612e-09 - acc: 1.0000 - val_loss: 3.0462e-09 - val_acc: 1.0000\n",
            "Epoch 19/20\n",
            "49/49 [==============================] - 1s 17ms/step - loss: 2.8948e-09 - acc: 1.0000 - val_loss: 2.7026e-09 - val_acc: 1.0000\n",
            "Epoch 20/20\n",
            "49/49 [==============================] - 1s 17ms/step - loss: 2.5967e-09 - acc: 1.0000 - val_loss: 2.5873e-09 - val_acc: 1.0000\n"
          ]
        }
      ]
    },
    {
      "cell_type": "code",
      "source": [
        "plot_dict = history2.history\n",
        "plot_dict #We can see loss, accuracy, val_loss, val_acc\n",
        "accuracy = plot_dict['acc']\n",
        "epochs = range(1,len(accuracy) + 1)\n",
        "val_acc = plot_dict['val_acc']"
      ],
      "metadata": {
        "id": "mSwDWfYpuncY"
      },
      "execution_count": 71,
      "outputs": []
    },
    {
      "cell_type": "code",
      "source": [
        "plt.title(\"Training and validation accuracy\")\n",
        "plt.plot(epochs, accuracy, label = \"Training accuracy\")\n",
        "plt.plot(epochs, val_acc, label = \"Validation accuracy\")\n",
        "plt.xlabel(\"Epochs\")\n",
        "plt.ylabel(\"Loss\")\n",
        "plt.legend()"
      ],
      "metadata": {
        "colab": {
          "base_uri": "https://localhost:8080/",
          "height": 313
        },
        "id": "a5KQJJw1uo3v",
        "outputId": "f74ab39a-fa2b-4025-a5b1-35c6c1ba29d8"
      },
      "execution_count": 72,
      "outputs": [
        {
          "output_type": "execute_result",
          "data": {
            "text/plain": [
              "<matplotlib.legend.Legend at 0x7f1476840ed0>"
            ]
          },
          "metadata": {},
          "execution_count": 72
        },
        {
          "output_type": "display_data",
          "data": {
            "text/plain": [
              "<Figure size 432x288 with 1 Axes>"
            ],
            "image/png": "[encoded data removed]"
          },
          "metadata": {
            "needs_background": "light"
          }
        }
      ]
    },
    {
      "cell_type": "code",
      "source": [
        "plt.title(\"Training and validation loss\")\n",
        "loss = plot_dict['loss']\n",
        "val_loss = plot_dict['val_loss']\n",
        "plt.plot(epochs, loss, label = \"Training loss\")\n",
        "plt.plot(epochs, val_loss, label = \"Validation loss\")\n",
        "plt.xlabel(\"Epochs\")\n",
        "plt.ylabel(\"Loss\")\n",
        "plt.legend()"
      ],
      "metadata": {
        "colab": {
          "base_uri": "https://localhost:8080/",
          "height": 313
        },
        "id": "G6SzeDyauq0a",
        "outputId": "f6e9ea83-701d-489b-a035-84a647eab1d1"
      },
      "execution_count": 73,
      "outputs": [
        {
          "output_type": "execute_result",
          "data": {
            "text/plain": [
              "<matplotlib.legend.Legend at 0x7f147683d410>"
            ]
          },
          "metadata": {},
          "execution_count": 73
        },
        {
          "output_type": "display_data",
          "data": {
            "text/plain": [
              "<Figure size 432x288 with 1 Axes>"
            ],
            "image/png": "[encoded data removed]"
          },
          "metadata": {
            "needs_background": "light"
          }
        }
      ]
    },
    {
      "cell_type": "markdown",
      "source": [
        "#**Conclusion**\n",
        "In this lab I got to explore hyperparameter tuning.\n",
        "I explored and tuned different parts of the model, and used regularisation and finally Early stopping to get an accuracy of 1.000\n",
        "\n",
        "However, the Testing accuracy being higher than the training accuracy left me confused. Upon checking the Keras FAQ page, I found an answer to this question\n",
        "\n",
        "#Why is my training loss much higher than my testing loss?\n",
        "A Keras model has two modes: training and testing. Regularization mechanisms, such as Dropout and L1/L2 weight regularization, are turned off at testing time. They are reflected in the training time loss but not in the test time loss.\n",
        "\n",
        "Besides, the training loss that Keras displays is the average of the losses for each batch of training data, over the current epoch. Because your model is changing over time, the loss over the first batches of an epoch is generally higher than over the last batches. This can bring the epoch-wise average down. On the other hand, the testing loss for an epoch is computed using the model as it is at the end of the epoch, resulting in a lower loss."
      ],
      "metadata": {
        "id": "85vbLqYcv2R-"
      }
    }
  ]
}